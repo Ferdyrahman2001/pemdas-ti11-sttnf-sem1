{
  "nbformat": 4,
  "nbformat_minor": 0,
  "metadata": {
    "colab": {
      "provenance": [],
      "authorship_tag": "ABX9TyOotORTUHlsgWO6MAoOALl/",
      "include_colab_link": true
    },
    "kernelspec": {
      "name": "python3",
      "display_name": "Python 3"
    },
    "language_info": {
      "name": "python"
    }
  },
  "cells": [
    {
      "cell_type": "markdown",
      "metadata": {
        "id": "view-in-github",
        "colab_type": "text"
      },
      "source": [
        "<a href=\"https://colab.research.google.com/github/Ferdyrahman2001/pemdas-ti11-sttnf-sem1/blob/main/ddpti11_p3_variabel%26typedata.ipynb\" target=\"_parent\"><img src=\"https://colab.research.google.com/assets/colab-badge.svg\" alt=\"Open In Colab\"/></a>"
      ]
    },
    {
      "cell_type": "code",
      "execution_count": null,
      "metadata": {
        "colab": {
          "base_uri": "https://localhost:8080/"
        },
        "id": "fHuMnH7hAM-k",
        "outputId": "531e75dc-190c-4df1-8a52-034dfa4d69a0"
      },
      "outputs": [
        {
          "output_type": "stream",
          "name": "stdout",
          "text": [
            "profil pribadi adalah 0110224244 ferdy rahman cibinong bogor 085697679103 11\n",
            "profil teman adalah 011022 Daffa Cibinong bogor +62 812-1999-1291 TMII\n"
          ]
        }
      ],
      "source": [
        "#profilpribadi\n",
        "nim = \"0110224244\"\n",
        "nam = \"ferdy rahman\"\n",
        "alm = \"cibinong bogor\"\n",
        "hp = \"085697679103\"\n",
        "kel = \"11\"\n",
        "print(\"profil pribadi adalah\", nim, nam, alm, hp, kel)\n",
        "\n",
        "#profilteman\n",
        "nim = \"011022\"\n",
        "nam = \"Daffa\"\n",
        "alm = \"Cibinong bogor\"\n",
        "hp = \"+62 812-1999-1291\"\n",
        "kel = \"TMII\"\n",
        "print(\"profil teman adalah\", nim, nam, alm, hp, kel)"
      ]
    },
    {
      "cell_type": "code",
      "source": [
        "gender = str(input(\"pilih gender:\"))\n",
        "if \"pria\" == gender.lower() or \"wanita\" == gender.lower():\n",
        "  print(\"ini\" +gender)\n",
        "\n",
        "  tinggibadan = int(input(\"tinggi badan\"))\n",
        "  if \"pria\" == gender.lower():\n",
        "    priabbidealkg = (tinggibadan - 100) - (tinggibadan - 100) * 10/100\n",
        "    print(\"berat badan ideal pria\", priabbidealkg)\n",
        "\n",
        "  if \"wanita\" == gender.lower():\n",
        "      wanitabbidealkg = (tinggibadan - 100) - (tinggibadan - 100) * 15/100\n",
        "      print(\"berat badan ideal wanita\", wanitabbidealkg)"
      ],
      "metadata": {
        "colab": {
          "base_uri": "https://localhost:8080/"
        },
        "id": "dECDuTTWK9w3",
        "outputId": "be4c2a62-c806-4bc5-83b7-6439e92719c3"
      },
      "execution_count": null,
      "outputs": [
        {
          "output_type": "stream",
          "name": "stdout",
          "text": [
            "pilih gender:pria\n",
            "inipria\n",
            "tinggi badan160\n",
            "berat badan ideal pria 54.0\n"
          ]
        }
      ]
    },
    {
      "cell_type": "code",
      "source": [
        " import math\n",
        " tinggi = float(input(\"masukkan tinggi tabung:\"))\n",
        " r2 = float(input(\"jari-jari:\"))\n",
        " k_tabung = 2 * math.pi * r2\n",
        " print(\"hasil tabung keliling:\", k_tabung)"
      ],
      "metadata": {
        "colab": {
          "base_uri": "https://localhost:8080/"
        },
        "id": "7L70FoYpI2Ok",
        "outputId": "42aae4c5-b46e-483c-e21a-9721f287215c"
      },
      "execution_count": null,
      "outputs": [
        {
          "output_type": "stream",
          "name": "stdout",
          "text": [
            "masukkan tinggi tabung:3\n",
            "jari-jari:5\n",
            "hasil tabung keliling: 31.41592653589793\n"
          ]
        }
      ]
    },
    {
      "cell_type": "code",
      "source": [
        "      c = float(input(\"masukkan nilai celcius :\"))\n",
        "      fahrenheit = (9/5) * c + 32\n",
        "      print(\"nilai dalam konversi fahrenheit ke celcius:\", fahrenheit, \"F\")"
      ],
      "metadata": {
        "colab": {
          "base_uri": "https://localhost:8080/"
        },
        "id": "vylZ1x4QHmgH",
        "outputId": "bc9b538b-4fae-4b14-8fc6-d601ded01e7d"
      },
      "execution_count": null,
      "outputs": [
        {
          "output_type": "stream",
          "name": "stdout",
          "text": [
            "masukkan nilai celcius :2\n",
            "nilai dalam konversi fahrenheit ke celcius: 35.6 F\n"
          ]
        }
      ]
    },
    {
      "cell_type": "code",
      "source": [
        "import math\n",
        "tinggi = float(input(\"masukkan - tinggi tabung:\"))\n",
        "r2 = float(input(\"masukkan jari-jari:\"))\n",
        "k_tabung = 2 * math.pi * r2\n",
        "print(\"print hasil tabung keliling:\", k_tabung)"
      ],
      "metadata": {
        "id": "qDvz-1JR8s1F",
        "colab": {
          "base_uri": "https://localhost:8080/"
        },
        "outputId": "d1974e81-a977-4265-99be-80fb423ba1ad"
      },
      "execution_count": null,
      "outputs": [
        {
          "output_type": "stream",
          "name": "stdout",
          "text": [
            "masukkan - tinggi tabung:2\n",
            "masukkan jari-jari:3\n",
            "print hasil tabung keliling: 18.84955592153876\n"
          ]
        }
      ]
    },
    {
      "cell_type": "code",
      "source": [
        "import math\n",
        "tinggi = float(input(\"masukkan tinggi tabung:\"))\n",
        "jari2 = float(input(\"masukkan jari-jari tabung:\"))\n",
        "l_tabung = 2 * math.pi * jari2 * (jari2 + tinggi)\n",
        "print(\"hasil tabung luas:\", l_tabung)"
      ],
      "metadata": {
        "colab": {
          "base_uri": "https://localhost:8080/"
        },
        "id": "bxNycS3KMt-o",
        "outputId": "f96068d5-a11f-42a7-e275-3c66be8dc8c2"
      },
      "execution_count": null,
      "outputs": [
        {
          "output_type": "stream",
          "name": "stdout",
          "text": [
            "masukkan tinggi tabung:4\n",
            "masukkan jari-jari tabung:5\n",
            "hasil tabung luas: 282.7433388230814\n"
          ]
        }
      ]
    }
  ]
}