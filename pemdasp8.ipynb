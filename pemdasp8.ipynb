{
  "nbformat": 4,
  "nbformat_minor": 0,
  "metadata": {
    "colab": {
      "provenance": [],
      "authorship_tag": "ABX9TyNp/kok2bNjiukRa8SryEom",
      "include_colab_link": true
    },
    "kernelspec": {
      "name": "python3",
      "display_name": "Python 3"
    },
    "language_info": {
      "name": "python"
    }
  },
  "cells": [
    {
      "cell_type": "markdown",
      "metadata": {
        "id": "view-in-github",
        "colab_type": "text"
      },
      "source": [
        "<a href=\"https://colab.research.google.com/github/Ferdyrahman2001/pemdas-ti11-sttnf-sem1/blob/main/pemdasp8.ipynb\" target=\"_parent\"><img src=\"https://colab.research.google.com/assets/colab-badge.svg\" alt=\"Open In Colab\"/></a>"
      ]
    },
    {
      "cell_type": "code",
      "execution_count": null,
      "metadata": {
        "id": "0Vy7sNnIkz_M"
      },
      "outputs": [],
      "source": [
        "def nam_fungsi():\n",
        "  print(\"a\")\n",
        "  nam_fungsi(\"o\")"
      ]
    },
    {
      "cell_type": "code",
      "source": [
        "def nama_fungsi(nama):\n",
        "  print(\"a\"+nama)\n",
        "  nama_fungsi(\"maulana\")\n",
        "  nama_fungsi(\"ada\")\n",
        "\n",
        "def my_function(A, Z):\n",
        "  print(A+\"\"+Z)\n",
        "  my_function(\"a\", \"b\")\n",
        "\n",
        "def my_function(nama):\n",
        "  print(\"nama saya adalah\" + nama[2])\n",
        "  my_function(\"ahmad\", \"Baihaqi\",\"toga\")\n",
        "\n",
        "def my_function(nama = \"a\"):\n",
        "  print(\"nama adalah\"+nama)\n",
        "  my_function(\"b\")\n",
        "  my_function(\"c\")\n",
        "\n",
        "  def my_return(x):\n",
        "    return x * 2\n",
        "    print(my_return(2))"
      ],
      "metadata": {
        "id": "dlFJvB0Jl3y_"
      },
      "execution_count": null,
      "outputs": []
    },
    {
      "cell_type": "code",
      "source": [
        "def celcius_ke_fahrenheit(suhu = 30):\n",
        "  print(\"suhu fahrenheit\"+ suhu)\n",
        "  celcius_ke_fahrenheit\n",
        "  suhu = 20\n",
        "  f = (9/5) * suhu + 32\n",
        "  k = suhu + 273\n",
        "  r = (4/5) * suhu\n",
        "  print(f\"suhu {suhu}C :\\n F{f:.2f}\\n- K{k:.2f}\\n- R {r:.2f}\")"
      ],
      "metadata": {
        "id": "0u1S-fyaod41"
      },
      "execution_count": null,
      "outputs": []
    }
  ]
}