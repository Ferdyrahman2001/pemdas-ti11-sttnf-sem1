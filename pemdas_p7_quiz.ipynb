{
  "nbformat": 4,
  "nbformat_minor": 0,
  "metadata": {
    "colab": {
      "provenance": [],
      "authorship_tag": "ABX9TyPZfvOK5fE/KuSo5HxDY5ZG",
      "include_colab_link": true
    },
    "kernelspec": {
      "name": "python3",
      "display_name": "Python 3"
    },
    "language_info": {
      "name": "python"
    }
  },
  "cells": [
    {
      "cell_type": "markdown",
      "metadata": {
        "id": "view-in-github",
        "colab_type": "text"
      },
      "source": [
        "<a href=\"https://colab.research.google.com/github/Ferdyrahman2001/pemdas-ti11-sttnf-sem1/blob/main/pemdas_p7_quiz.ipynb\" target=\"_parent\"><img src=\"https://colab.research.google.com/assets/colab-badge.svg\" alt=\"Open In Colab\"/></a>"
      ]
    },
    {
      "cell_type": "code",
      "execution_count": null,
      "metadata": {
        "colab": {
          "base_uri": "https://localhost:8080/"
        },
        "id": "BVjBmQ88Clvs",
        "outputId": "3bbfd676-2ee4-49cd-a136-2bd32e427cdd"
      },
      "outputs": [
        {
          "output_type": "stream",
          "name": "stdout",
          "text": [
            "nama kendaraan:b\n",
            "input jenis bensin:pertalote\n",
            "harga jenis bensin:10000\n",
            "jarak tempuh bensin:12\n",
            "kota tujuan:bogor\n",
            "jarak tempuh kota tujuan:120.6\n",
            "100499.99999999999\n"
          ]
        }
      ],
      "source": [
        "#jenisbensin\n",
        "jenis_bensin = [\"pertalite\", \"pertamax\", \"pertamaxturbo\"]\n",
        "\n",
        "#hargajenisbensin\n",
        "harga_pertalite = 10000\n",
        "harga_pertamax = 14000\n",
        "harga_pertamax_turbo = 17000\n",
        "\n",
        "#jaraktempuhbensin\n",
        "jarak_temp_pertalite = 21\n",
        "jarak_temp_pertamax = 13\n",
        "jarak_temp_pertamaxturbo = 13.5\n",
        "\n",
        "kota = [\"jakarta\", \"bekasi\", \"depok\", \"tangerang\", \"bogor\"]\n",
        "\n",
        "#jaraktempuhkota\n",
        "jarak_jakarta = 20\n",
        "jarak_bekasi = 35.7\n",
        "jarak_depok = 5\n",
        "jarak_tangerang = 99\n",
        "jarak_bogor = 120.6\n",
        "\n",
        "#inputnamakendaraan\n",
        "nama_kendaraan = input(\"nama kendaraan:\")\n",
        "jenis_bensin = input(\"input jenis bensin:\")\n",
        "harga_jenis_bensin = int(input(\"harga jenis bensin:\"))\n",
        "jarak_tempuh_bensin = float(input(\"jarak tempuh bensin:\"))\n",
        "kota = input(\"kota tujuan:\")\n",
        "jarak_tempuh_kota = float(input(\"jarak tempuh kota tujuan:\"))\n",
        "pemakaian_bensin = (\n",
        "    jarak_tempuh_kota / jarak_tempuh_bensin\n",
        ")\n",
        "total_harga = (\n",
        "    pemakaian_bensin * harga_jenis_bensin\n",
        ")\n",
        "print(total_harga)"
      ]
    },
    {
      "cell_type": "code",
      "source": [
        "nama = input(\"masukkan nama pembeli:\")\n",
        "hp = int(input(\"masukkan nomor hp pembeli:\"))\n",
        "menu = ''\n",
        "pilihan = input(menu)\n",
        "match pilihan:\n",
        "  case \"makanan\":\n",
        "    menu_makan = \"nasigoreng = 15000 | miegoreng = 12000 | ayamgeprek = 18000\"\n",
        "    nasi_goreng = 15000\n",
        "    mie_goreng =12000\n",
        "    ayam_geprek = 18000\n",
        "    print(menu_makan)\n",
        "  case \"minuman\":\n",
        "    menu_minum = \"anekajus = 15000 | softdrink = 10000 | sweeticetea = 5000\"\n",
        "    aneka_jus = 15000\n",
        "    soft_drink = 10000\n",
        "    sweet_ice_tea = 5000\n",
        "    print(menu_minum)\n",
        "masukkan_menu = input(\"masukkan menu:\")\n",
        "jumlah_pesanan = int(input(\"masukkan jumlah pesanan:\"))\n",
        "print(masukkan_menu, jumlah_pesanan)\n"
      ],
      "metadata": {
        "id": "hAf4tmtXh1Z1",
        "colab": {
          "base_uri": "https://localhost:8080/"
        },
        "outputId": "f9a98957-9a31-433b-a3d6-9d5d7966c1b4"
      },
      "execution_count": 8,
      "outputs": [
        {
          "output_type": "stream",
          "name": "stdout",
          "text": [
            "masukkan nama pembeli:b\n",
            "masukkan nomor hp pembeli:0856\n",
            "makanan\n",
            "nasigoreng = 15000 | miegoreng = 12000 | ayamgeprek = 18000\n",
            "masukkan menu:nasigoreng\n",
            "masukkan jumlah pesanan:2\n",
            "nasigoreng 2\n"
          ]
        }
      ]
    },
    {
      "cell_type": "code",
      "source": [],
      "metadata": {
        "id": "VgxAOKnAlthY"
      },
      "execution_count": null,
      "outputs": []
    }
  ]
}