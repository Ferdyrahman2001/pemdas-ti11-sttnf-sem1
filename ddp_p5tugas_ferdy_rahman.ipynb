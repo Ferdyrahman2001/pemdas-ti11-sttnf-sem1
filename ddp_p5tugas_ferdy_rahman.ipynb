{
  "nbformat": 4,
  "nbformat_minor": 0,
  "metadata": {
    "colab": {
      "provenance": [],
      "authorship_tag": "ABX9TyO3c/qcQMJk1wI94af/0UZf",
      "include_colab_link": true
    },
    "kernelspec": {
      "name": "python3",
      "display_name": "Python 3"
    },
    "language_info": {
      "name": "python"
    }
  },
  "cells": [
    {
      "cell_type": "markdown",
      "metadata": {
        "id": "view-in-github",
        "colab_type": "text"
      },
      "source": [
        "<a href=\"https://colab.research.google.com/github/Ferdyrahman2001/pemdas-ti11-sttnf-sem1/blob/main/ddp_p5tugas_ferdy_rahman.ipynb\" target=\"_parent\"><img src=\"https://colab.research.google.com/assets/colab-badge.svg\" alt=\"Open In Colab\"/></a>"
      ]
    },
    {
      "cell_type": "code",
      "execution_count": null,
      "metadata": {
        "colab": {
          "base_uri": "https://localhost:8080/"
        },
        "id": "tsNtH9bdUeDT",
        "outputId": "8563dc9f-b464-41f7-c281-cb6a4f9842d9"
      },
      "outputs": [
        {
          "output_type": "stream",
          "name": "stdout",
          "text": [
            "5\n"
          ]
        }
      ],
      "source": [
        "#kardinalitas himpunan\n",
        "h = (1,2,3,4,5)\n",
        "banyak_anggota = len(h)\n",
        "print(banyak_anggota)"
      ]
    },
    {
      "cell_type": "code",
      "source": [
        "#contohhimpunandenganenumerasi\n",
        "A = {1,2,3,4,4}\n",
        "print(A)"
      ],
      "metadata": {
        "colab": {
          "base_uri": "https://localhost:8080/"
        },
        "id": "miuxSDhJWoNH",
        "outputId": "e2f3951a-9bea-43c0-9a8d-66c5b7d8f41a"
      },
      "execution_count": null,
      "outputs": [
        {
          "output_type": "stream",
          "name": "stdout",
          "text": [
            "{1, 2, 3, 4}\n"
          ]
        }
      ]
    },
    {
      "cell_type": "code",
      "source": [
        "#himpunan dengan notasi\n",
        "i = set(range(1, 11)) #fungsi range itu batas atas yang dituju x tetapi tidak ikut (x < 11)\n",
        "print(i)"
      ],
      "metadata": {
        "colab": {
          "base_uri": "https://localhost:8080/"
        },
        "id": "bcmpvzV_YODH",
        "outputId": "dd7f00f1-7e58-4994-8e86-884fc2568897"
      },
      "execution_count": null,
      "outputs": [
        {
          "output_type": "stream",
          "name": "stdout",
          "text": [
            "{1, 2, 3, 4, 5, 6, 7, 8, 9, 10}\n"
          ]
        }
      ]
    },
    {
      "cell_type": "code",
      "source": [
        "#1\n",
        "namaK = \"Skopi\"\n",
        "jenisK = \"matic\"\n",
        "merkK = \"beat\"\n",
        "ccK = 110\n",
        "warnaK = \"blue\"\n",
        "rodaK = 2\n",
        "listK1 = (namaK, jenisK, ccK, warnaK, rodaK)\n",
        "print(listK1)\n",
        "\n",
        "hargaK = 17.000.000\n",
        "tipeK = beatOne\n",
        "listK2 = (hargaK, tipeK)\n",
        "\n",
        "#2\n"
      ],
      "metadata": {
        "id": "EONjIyApW105",
        "colab": {
          "base_uri": "https://localhost:8080/"
        },
        "outputId": "4301da1d-f5fb-4920-9163-0179583214c5"
      },
      "execution_count": null,
      "outputs": [
        {
          "output_type": "stream",
          "name": "stdout",
          "text": [
            "('beat', 'matic', 110, 'blue', 2)\n",
            "('beat', 'matic', 110, 'blue', 2)\n"
          ]
        }
      ]
    },
    {
      "cell_type": "code",
      "source": [
        "listVarKendaraan = [\"honda beat\", \"matic\", \"beat\", 110, \"blue\", 2]\n",
        "hargaK = 17000000\n",
        "tipeK = \"Standard\"\n",
        "merkK = \"Beatone\"\n",
        "listVarKendaraan2 = [hargaK, tipeK, merkK]\n",
        "listVarKendaraan.append(hargaK)\n",
        "listVarKendaraan.append(tipeK)\n",
        "print(listVarKendaraan, listVarKendaraan2)"
      ],
      "metadata": {
        "colab": {
          "base_uri": "https://localhost:8080/"
        },
        "id": "YTDuFwggPMYx",
        "outputId": "719c8c65-0366-4ca6-beeb-579ae10ff66f"
      },
      "execution_count": null,
      "outputs": [
        {
          "output_type": "stream",
          "name": "stdout",
          "text": [
            "['honda beat', 'matic', 'beat', 110, 'blue', 2, 17000000, 'Standard'] [17000000, 'Standard', 'Beatone']\n"
          ]
        }
      ]
    },
    {
      "cell_type": "code",
      "source": [
        "penampung = ''\n",
        "pilihan = input(penampung)\n",
        "match pilihan:\n",
        "  case \"1\":\n",
        "    print(\"memilih perhitungan luas persegi:\")\n",
        "    s = int(input(\"masukkan sisi?\"))\n",
        "    luasP = s*s\n",
        "    print(\"luas persegi yang sisi=\", s, \"adalah\", luasP)\n",
        "  case \"2\":\n",
        "    print(\"memilih perhitungan luas lingkaran:\")\n",
        "    PHI = 22/7\n",
        "    r2 = float(input(\"masukkan jari-jari?\"))\n",
        "    luasO = PHI * r2 * r2\n",
        "    print(\"luas lingkaran=\", r2, \"adalah\", luasO)\n",
        "  case \"3\":\n",
        "    print(\"memilih perhitungan luasS3:\")\n",
        "    alas = float(input(\"masukkan alas:\"))\n",
        "    tinggi = float(input(\"masukkan tinggi:\"))\n",
        "    luasS3 = 1/2 * alas * tinggi\n",
        "    print(\"Luas Segitiga yang alas\", alas, \"dan tinggi\", tinggi, \"adalah\", luasS3)\n",
        "  case _:\n",
        "    print(\"pilih sesuai yang ada!!:\")"
      ],
      "metadata": {
        "colab": {
          "base_uri": "https://localhost:8080/"
        },
        "id": "FdimrRy4VE8v",
        "outputId": "ffd04a2d-e9c7-4d64-c747-83a5f930aa62"
      },
      "execution_count": null,
      "outputs": [
        {
          "output_type": "stream",
          "name": "stdout",
          "text": [
            "3\n",
            "memilih perhitungan luasS3:\n",
            "masukkan alas:2\n",
            "masukkan tinggi:5\n",
            "Luas Segitiga yang alas 2.0 dan tinggi 5.0 adalah 5.0\n"
          ]
        }
      ]
    }
  ]
}