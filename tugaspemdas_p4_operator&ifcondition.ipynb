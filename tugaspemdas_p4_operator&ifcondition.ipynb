{
  "nbformat": 4,
  "nbformat_minor": 0,
  "metadata": {
    "colab": {
      "provenance": [],
      "authorship_tag": "ABX9TyMmgTm4kHtNYJleQIyo+3wa",
      "include_colab_link": true
    },
    "kernelspec": {
      "name": "python3",
      "display_name": "Python 3"
    },
    "language_info": {
      "name": "python"
    }
  },
  "cells": [
    {
      "cell_type": "markdown",
      "metadata": {
        "id": "view-in-github",
        "colab_type": "text"
      },
      "source": [
        "<a href=\"https://colab.research.google.com/github/Ferdyrahman2001/pemdas-ti11-sttnf-sem1/blob/main/tugaspemdas_p4_operator%26ifcondition.ipynb\" target=\"_parent\"><img src=\"https://colab.research.google.com/assets/colab-badge.svg\" alt=\"Open In Colab\"/></a>"
      ]
    },
    {
      "cell_type": "code",
      "execution_count": null,
      "metadata": {
        "colab": {
          "base_uri": "https://localhost:8080/"
        },
        "id": "0X4l7Y5fdZKv",
        "outputId": "2993b0a7-b063-4d37-a5fd-d0f5a2e78ec7"
      },
      "outputs": [
        {
          "output_type": "stream",
          "name": "stdout",
          "text": [
            "masukkan blangan:5\n",
            "bilangan 5 adalah bilangan ganjil\n"
          ]
        }
      ],
      "source": [
        "bilangan = int(input(\"masukkan blangan:\"))\n",
        "#masukkan kondisi\n",
        "if bilangan % 2 == 0:\n",
        "  print(\"bilangan\", bilangan, \"adalah bilangan genap\");\n",
        "else:\n",
        "  print(\"bilangan\", bilangan, \"adalah bilangan ganjil\");"
      ]
    },
    {
      "cell_type": "code",
      "source": [
        "nilai = int(input(\"masukkan nilai ujian:\"))\n",
        "if nilai >= 75:\n",
        "  print(\"lulus\");\n",
        "else:\n",
        "  print(\"tidak lulus\");"
      ],
      "metadata": {
        "colab": {
          "base_uri": "https://localhost:8080/"
        },
        "id": "IQ3VrRlPehSv",
        "outputId": "2ea16551-437e-4ce5-9ffc-85c67845af98"
      },
      "execution_count": null,
      "outputs": [
        {
          "output_type": "stream",
          "name": "stdout",
          "text": [
            "masukkan nilai ujian:60\n",
            "tidak lulus\n"
          ]
        }
      ]
    },
    {
      "cell_type": "code",
      "source": [
        "usia = int(input(\"masukkan usia anda:\"))\n",
        "if usia >= 18:\n",
        "  print(\"dewasa\");\n",
        "elif usia >= 13 and usia <= 17:\n",
        "  print(\"remaja\");\n",
        "else:\n",
        "  print(\"anak-anak\");"
      ],
      "metadata": {
        "colab": {
          "base_uri": "https://localhost:8080/"
        },
        "id": "NyUy0I2Qe8d-",
        "outputId": "0e40c2bf-bf6b-4b3f-8c29-715cd12fa477"
      },
      "execution_count": null,
      "outputs": [
        {
          "output_type": "stream",
          "name": "stdout",
          "text": [
            "masukkan usia anda:20\n",
            "dewasa\n"
          ]
        }
      ]
    },
    {
      "cell_type": "code",
      "source": [
        "#hargabahanbaku\n",
        "harga_minyak = 18000\n",
        "harga_gula = 15000\n",
        "harga_teh = 10000\n",
        "harga_kopi = 12000\n",
        "harga_indomie = 50000\n",
        "harga_beras = 20000\n",
        "#inputjumlahpembelian\n",
        "jumlah_beli_minyak = int(input(\"jumlah pembelian minyak:\"))\n",
        "jumlah_beli_gula = int(input(\"jumlah pembelian gula:\"))\n",
        "jumlah_beli_teh = int(input(\"jumlah pembelian teh:\"))\n",
        "jumlah_beli_kopi = int(input(\"jumlah pembelian kopi:\"))\n",
        "jumlah_beli_indomie = int(input(\"jumlah pembelian indomie:\"))\n",
        "jumlah_beli_beras = int(input(\"jumlah pembelian beras:\"))\n",
        "#hitungtotalharga\n",
        "total_harga = (\n",
        "    (harga_minyak * jumlah_beli_minyak) +\n",
        "    (harga_gula * jumlah_beli_gula) +\n",
        "    (harga_teh * jumlah_beli_teh) +\n",
        "    (harga_kopi * jumlah_beli_kopi) +\n",
        "    (harga_indomie * jumlah_beli_indomie) +\n",
        "    (harga_beras * jumlah_beli_beras)\n",
        "    )\n",
        "diskon = 0.1\n",
        "\n",
        "total_item = (jumlah_beli_minyak + jumlah_beli_kopi + jumlah_beli_gula + jumlah_beli_indomie + jumlah_beli_beras + jumlah_beli_teh)\n",
        "\n",
        "if total_item > 100:\n",
        "  total_diskon = total_harga * diskon\n",
        "else:\n",
        "  total_diskon = 0\n",
        "\n",
        "total_harga -= total_diskon\n",
        "\n",
        "#cetakhasil\n",
        "\n",
        "if total_diskon > 0:\n",
        "  print(\"anda dapat diskon 10%: Rp\", total_diskon)\n",
        "else:\n",
        "  print(\"tidak ada diskon\")\n",
        "print(\"total harga setelah diskon (jika ada): Rp\", total_harga)"
      ],
      "metadata": {
        "colab": {
          "base_uri": "https://localhost:8080/"
        },
        "id": "ltYMECmuh5vu",
        "outputId": "4048aa3c-2be6-41d6-8b69-478ee4bafd39"
      },
      "execution_count": null,
      "outputs": [
        {
          "output_type": "stream",
          "name": "stdout",
          "text": [
            "jumlah pembelian minyak:20\n",
            "jumlah pembelian gula:21\n",
            "jumlah pembelian teh:24\n",
            "jumlah pembelian kopi:25\n",
            "jumlah pembelian indomie:25\n",
            "jumlah pembelian beras:26\n",
            "anda dapat diskon 10%: Rp 298500.0\n",
            "total harga setelah diskon (jika ada): Rp 2686500.0\n"
          ]
        }
      ]
    },
    {
      "cell_type": "code",
      "source": [
        "status = input(\"masukkan status keanggotaan anda:\").upper();\n",
        "#proses kondisi\n",
        "if status == \"gold\" and status == \"silver\":\n",
        "  print(\"selamat, anda mendapatkan diskon\")\n",
        "else:\n",
        "  print(\"maaf, anda tidak mendapatkan diskon\");"
      ],
      "metadata": {
        "colab": {
          "base_uri": "https://localhost:8080/"
        },
        "id": "ax-jqZAPfquE",
        "outputId": "6ef6d539-4eee-4f5e-e9ba-5449d1751730"
      },
      "execution_count": null,
      "outputs": [
        {
          "output_type": "stream",
          "name": "stdout",
          "text": [
            "masukkan status keanggotaan anda:bronze\n",
            "maaf, anda tidak mendapatkan diskon\n"
          ]
        }
      ]
    }
  ]
}